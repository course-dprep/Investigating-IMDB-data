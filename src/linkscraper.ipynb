{
 "cells": [
  {
   "cell_type": "code",
   "execution_count": 12,
   "id": "de0e8cae",
   "metadata": {},
   "outputs": [
    {
     "name": "stdout",
     "output_type": "stream",
     "text": [
      "https://www.boxofficemojo.com/chart/top_opening_weekend/?offset=200\n",
      "https://www.boxofficemojo.com/chart/top_opening_weekend/?offset=400\n",
      "https://www.boxofficemojo.com/chart/top_opening_weekend/?offset=600\n",
      "https://www.boxofficemojo.com/chart/top_opening_weekend/?offset=800\n"
     ]
    },
    {
     "ename": "TypeError",
     "evalue": "'NoneType' object is not subscriptable",
     "output_type": "error",
     "traceback": [
      "\u001b[1;31m---------------------------------------------------------------------------\u001b[0m",
      "\u001b[1;31mTypeError\u001b[0m                                 Traceback (most recent call last)",
      "Cell \u001b[1;32mIn[12], line 29\u001b[0m\n\u001b[0;32m     27\u001b[0m         page \u001b[38;5;241m+\u001b[39m\u001b[38;5;241m=\u001b[39m \u001b[38;5;241m200\u001b[39m\n\u001b[0;32m     28\u001b[0m         time\u001b[38;5;241m.\u001b[39msleep(\u001b[38;5;241m1\u001b[39m)\n\u001b[1;32m---> 29\u001b[0m boxoffice_links(\u001b[38;5;124m'\u001b[39m\u001b[38;5;124mhttps://www.boxofficemojo.com/chart/top_opening_weekend/\u001b[39m\u001b[38;5;124m'\u001b[39m)\n",
      "Cell \u001b[1;32mIn[12], line 23\u001b[0m, in \u001b[0;36mboxoffice_links\u001b[1;34m(base_url)\u001b[0m\n\u001b[0;32m     20\u001b[0m     \u001b[38;5;28;01mbreak\u001b[39;00m \n\u001b[0;32m     22\u001b[0m \u001b[38;5;28;01mfor\u001b[39;00m box_link \u001b[38;5;129;01min\u001b[39;00m box_links:\n\u001b[1;32m---> 23\u001b[0m     unique_id_link \u001b[38;5;241m=\u001b[39m box_link\u001b[38;5;241m.\u001b[39mfind(\u001b[38;5;124m'\u001b[39m\u001b[38;5;124ma\u001b[39m\u001b[38;5;124m'\u001b[39m)[\u001b[38;5;124m'\u001b[39m\u001b[38;5;124mhref\u001b[39m\u001b[38;5;124m'\u001b[39m]\n\u001b[0;32m     24\u001b[0m     \u001b[38;5;28mprint\u001b[39m(\u001b[38;5;124m'\u001b[39m\u001b[38;5;124mhttps://www.boxofficemojo.com\u001b[39m\u001b[38;5;124m'\u001b[39m \u001b[38;5;241m+\u001b[39m unique_id_link)\n\u001b[0;32m     25\u001b[0m \u001b[38;5;28;01mif\u001b[39;00m \u001b[38;5;129;01mnot\u001b[39;00m unique_id_link:\n",
      "\u001b[1;31mTypeError\u001b[0m: 'NoneType' object is not subscriptable"
     ]
    }
   ],
   "source": [
    "import requests\n",
    "import time\n",
    "from bs4 import BeautifulSoup\n",
    "\n",
    "def boxoffice_links(base_url):\n",
    "    page = 0\n",
    "\n",
    "    while True:\n",
    "        url = f\"{base_url}?offset={page}\" \n",
    "        header = {'User-agent': 'Mozilla/5.0'}\n",
    "        box_request = requests.get(url, headers=header)\n",
    "        box_request.encoding = box_request.apparent_encoding\n",
    "        box_source_code = box_request.text\n",
    "        \n",
    "        soup = BeautifulSoup(box_source_code, 'html.parser')\n",
    "        \n",
    "        \n",
    "        box_links = soup.find_all(class_='a-last')\n",
    "        if not box_links:\n",
    "            break \n",
    "\n",
    "        for box_link in box_links:\n",
    "            unique_id_link = box_link.find('a')['href']\n",
    "            print('https://www.boxofficemojo.com' + unique_id_link)\n",
    "        if not unique_id_link:\n",
    "            break \n",
    "        page += 200\n",
    "        time.sleep(1)\n",
    "boxoffice_links('https://www.boxofficemojo.com/chart/top_opening_weekend/')"
   ]
  },
  {
   "cell_type": "code",
   "execution_count": 6,
   "id": "a92c07b4",
   "metadata": {},
   "outputs": [],
   "source": [
    "def box_links(soup):\n",
    "    try:\n",
    "        box_links = soup.find_all(class_='a-last')\n",
    "        unique_id_link = box_link.find('a')['href']\n",
    "        return(f'https://www.boxofficemojo.com/chart/top_opening_weekend/')\n",
    "    except:\n",
    "        return('no next page')"
   ]
  },
  {
   "cell_type": "code",
   "execution_count": 8,
   "id": "5f91eb25",
   "metadata": {},
   "outputs": [
    {
     "data": {
      "text/plain": [
       "'no next page'"
      ]
     },
     "execution_count": 8,
     "metadata": {},
     "output_type": "execute_result"
    }
   ],
   "source": [
    "soup = BeautifulSoup(requests.get('https://www.boxofficemojo.com/chart/top_opening_weekend/').text)\n",
    "box_links(soup)"
   ]
  },
  {
   "cell_type": "code",
   "execution_count": 13,
   "id": "4e46edb2",
   "metadata": {},
   "outputs": [
    {
     "name": "stdout",
     "output_type": "stream",
     "text": [
      "https://www.boxofficemojo.com/chart/top_opening_weekend/?offset=200\n",
      "https://www.boxofficemojo.com/chart/top_opening_weekend/?offset=400\n",
      "https://www.boxofficemojo.com/chart/top_opening_weekend/?offset=600\n",
      "https://www.boxofficemojo.com/chart/top_opening_weekend/?offset=800\n"
     ]
    },
    {
     "ename": "TypeError",
     "evalue": "'NoneType' object is not subscriptable",
     "output_type": "error",
     "traceback": [
      "\u001b[1;31m---------------------------------------------------------------------------\u001b[0m",
      "\u001b[1;31mTypeError\u001b[0m                                 Traceback (most recent call last)",
      "Cell \u001b[1;32mIn[13], line 35\u001b[0m\n\u001b[0;32m     32\u001b[0m         page \u001b[38;5;241m+\u001b[39m\u001b[38;5;241m=\u001b[39m \u001b[38;5;241m200\u001b[39m\n\u001b[0;32m     33\u001b[0m         time\u001b[38;5;241m.\u001b[39msleep(\u001b[38;5;241m1\u001b[39m)\n\u001b[1;32m---> 35\u001b[0m boxoffice_links(\u001b[38;5;124m'\u001b[39m\u001b[38;5;124mhttps://www.boxofficemojo.com/chart/top_opening_weekend/\u001b[39m\u001b[38;5;124m'\u001b[39m)\n",
      "Cell \u001b[1;32mIn[13], line 25\u001b[0m, in \u001b[0;36mboxoffice_links\u001b[1;34m(base_url)\u001b[0m\n\u001b[0;32m     22\u001b[0m     \u001b[38;5;28;01mbreak\u001b[39;00m \n\u001b[0;32m     24\u001b[0m \u001b[38;5;28;01mfor\u001b[39;00m box_link \u001b[38;5;129;01min\u001b[39;00m box_links:\n\u001b[1;32m---> 25\u001b[0m     unique_id_link \u001b[38;5;241m=\u001b[39m box_link\u001b[38;5;241m.\u001b[39mfind(\u001b[38;5;124m'\u001b[39m\u001b[38;5;124ma\u001b[39m\u001b[38;5;124m'\u001b[39m)[\u001b[38;5;124m'\u001b[39m\u001b[38;5;124mhref\u001b[39m\u001b[38;5;124m'\u001b[39m]\n\u001b[0;32m     26\u001b[0m     \u001b[38;5;28mprint\u001b[39m(\u001b[38;5;124m'\u001b[39m\u001b[38;5;124mhttps://www.boxofficemojo.com\u001b[39m\u001b[38;5;124m'\u001b[39m \u001b[38;5;241m+\u001b[39m unique_id_link)\n\u001b[0;32m     28\u001b[0m \u001b[38;5;66;03m# Voeg een controle toe om te stoppen als unique_id_link niet is gedefinieerd\u001b[39;00m\n",
      "\u001b[1;31mTypeError\u001b[0m: 'NoneType' object is not subscriptable"
     ]
    }
   ],
   "source": [
    "import requests\n",
    "import time\n",
    "from bs4 import BeautifulSoup\n",
    "import sys  # Voeg de sys-module toe\n",
    "\n",
    "def boxoffice_links(base_url):\n",
    "    page = 0\n",
    "\n",
    "    while True:\n",
    "        url = f\"{base_url}?offset={page}\" \n",
    "        header = {'User-agent': 'Mozilla/5.0'}\n",
    "        box_request = requests.get(url, headers=header)\n",
    "        box_request.encoding = box_request.apparent_encoding\n",
    "        box_source_code = box_request.text\n",
    "        \n",
    "        soup = BeautifulSoup(box_source_code, 'html.parser')\n",
    "        \n",
    "        box_links = soup.find_all(class_='a-last')\n",
    "        \n",
    "        # Voeg een controle toe om te stoppen als box_links leeg is\n",
    "        if not box_links:\n",
    "            break \n",
    "\n",
    "        for box_link in box_links:\n",
    "            unique_id_link = box_link.find('a')['href']\n",
    "            print('https://www.boxofficemojo.com' + unique_id_link)\n",
    "        \n",
    "        # Voeg een controle toe om te stoppen als unique_id_link niet is gedefinieerd\n",
    "        if not unique_id_link:\n",
    "            break \n",
    "\n",
    "        page += 200\n",
    "        time.sleep(1)\n",
    "\n",
    "boxoffice_links('https://www.boxofficemojo.com/chart/top_opening_weekend/')"
   ]
  },
  {
   "cell_type": "code",
   "execution_count": 17,
   "id": "5176e645",
   "metadata": {},
   "outputs": [
    {
     "name": "stdout",
     "output_type": "stream",
     "text": [
      "https://www.boxofficemojo.com/chart/top_opening_weekend/?offset=200\n",
      "https://www.boxofficemojo.com/chart/top_opening_weekend/?offset=400\n",
      "https://www.boxofficemojo.com/chart/top_opening_weekend/?offset=600\n",
      "https://www.boxofficemojo.com/chart/top_opening_weekend/?offset=800\n",
      "all links have been scraped\n"
     ]
    }
   ],
   "source": [
    "import requests\n",
    "import time\n",
    "from bs4 import BeautifulSoup\n",
    "import sys\n",
    "\n",
    "def boxoffice_links(base_url):\n",
    "    page = 0\n",
    "\n",
    "    while True:\n",
    "        url = f\"{base_url}?offset={page}\" \n",
    "        header = {'User-agent': 'Mozilla/5.0'}\n",
    "        box_request = requests.get(url, headers=header)\n",
    "        box_request.encoding = box_request.apparent_encoding\n",
    "        box_source_code = box_request.text\n",
    "        \n",
    "        soup = BeautifulSoup(box_source_code, 'html.parser')\n",
    "        \n",
    "        box_links = soup.find_all(class_='a-last')\n",
    "        \n",
    "        if not box_links:\n",
    "            print ('all links have been scraped')\n",
    "            break \n",
    "\n",
    "        for box_link in box_links:\n",
    "            # Controleer of box_link None is voordat je probeert te subscripten\n",
    "            if box_link.find('a') is not None:\n",
    "                unique_id_link = box_link.find('a')['href']\n",
    "                print('https://www.boxofficemojo.com' + unique_id_link)\n",
    "        \n",
    "        # Voeg een controle toe om te stoppen als unique_id_link niet is gedefinieerd\n",
    "        if 'unique_id_link' not in locals():\n",
    "            break \n",
    "\n",
    "        page += 200\n",
    "        time.sleep(1)\n",
    "\n",
    "boxoffice_links('https://www.boxofficemojo.com/chart/top_opening_weekend/')"
   ]
  },
  {
   "cell_type": "code",
   "execution_count": null,
   "id": "17b69c5c",
   "metadata": {},
   "outputs": [],
   "source": []
  }
 ],
 "metadata": {
  "kernelspec": {
   "display_name": "Python 3 (ipykernel)",
   "language": "python",
   "name": "python3"
  },
  "language_info": {
   "codemirror_mode": {
    "name": "ipython",
    "version": 3
   },
   "file_extension": ".py",
   "mimetype": "text/x-python",
   "name": "python",
   "nbconvert_exporter": "python",
   "pygments_lexer": "ipython3",
   "version": "3.11.4"
  }
 },
 "nbformat": 4,
 "nbformat_minor": 5
}
