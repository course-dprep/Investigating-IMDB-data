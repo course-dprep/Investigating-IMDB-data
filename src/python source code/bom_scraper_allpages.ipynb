{
 "cells": [
  {
   "cell_type": "code",
   "execution_count": 4,
   "id": "0ce94da9",
   "metadata": {},
   "outputs": [
    {
     "name": "stdout",
     "output_type": "stream",
     "text": [
      "                                           name  openinggross theathers\n",
      "0                             Avengers: Endgame  $357,115,007     4,662\n",
      "1                       Spider-Man: No Way Home  $260,138,569     4,336\n",
      "2                        Avengers: Infinity War  $257,698,183     4,474\n",
      "3    Star Wars: Episode VII - The Force Awakens  $247,966,675     4,134\n",
      "4       Star Wars: Episode VIII - The Last Jedi  $220,009,584     4,232\n",
      "..                                          ...           ...       ...\n",
      "195          Madagascar 3: Europe's Most Wanted   $60,316,738     4,258\n",
      "196                               Kung Fu Panda   $60,239,130     4,114\n",
      "197                      Straight Outta Compton   $60,200,180     2,757\n",
      "198                                        Cars   $60,119,509     3,985\n",
      "199                                       Signs   $60,117,080     3,264\n",
      "\n",
      "[200 rows x 3 columns]\n"
     ]
    }
   ],
   "source": [
    "from bs4 import BeautifulSoup\n",
    "import requests\n",
    "\n",
    "url = 'https://www.boxofficemojo.com/chart/top_opening_weekend/'\n",
    "\n",
    "request = requests.get(url)\n",
    "content = request.text\n",
    "\n",
    "soup=BeautifulSoup(content)\n",
    "rows = soup.findAll('tr')\n",
    "data = rows[1].findAll('td')\n",
    "\n",
    "openingross = data[0].find('td', class_= 'a-text-right mojo-field-type-money')\n",
    "\n",
    "import pandas as pd\n",
    "appended_data = []\n",
    "for row in rows:\n",
    "    data_row = {}\n",
    "    data = row.findAll('td')\n",
    "    if len(data) == 0:\n",
    "        continue\n",
    "    if len(data[0].findAll('span')) > 0:\n",
    "        #special weekend\n",
    "        data_row['occasion'] = data[0].findAll('span')[0].text\n",
    "        data_row['date'] = data[0].findAll('a')[0].text\n",
    "    else:\n",
    "        #normal weekend\n",
    "        data_row['occasion'] = \"\"\n",
    "        data_row['rank'] = data[0].text\n",
    "    data_row['name'] = data[1].text\n",
    "    data_row['openinggross'] = data[2].text\n",
    "    data_row['totalgross'] = data[3].text\n",
    "    data_row['percentage'] = data[4].text\n",
    "    data_row['theathers'] = data[5].text\n",
    "    data_row['everage'] = data[6].text\n",
    "    data_row['date'] = data[7].text\n",
    "    appended_data.append(data_row)\n",
    "weekend_data = pd.DataFrame(appended_data, columns = ['name', 'openinggross','theathers']) \n",
    "\n",
    "print(weekend_data)"
   ]
  },
  {
   "cell_type": "code",
   "execution_count": 6,
   "id": "3a31a78f",
   "metadata": {},
   "outputs": [
    {
     "name": "stdout",
     "output_type": "stream",
     "text": [
      "                                           name  openinggross theathers\n",
      "0                             Avengers: Endgame  $357,115,007     4,662\n",
      "1                       Spider-Man: No Way Home  $260,138,569     4,336\n",
      "2                        Avengers: Infinity War  $257,698,183     4,474\n",
      "3    Star Wars: Episode VII - The Force Awakens  $247,966,675     4,134\n",
      "4       Star Wars: Episode VIII - The Last Jedi  $220,009,584     4,232\n",
      "..                                          ...           ...       ...\n",
      "995                              13 Going on 30   $21,054,283     3,438\n",
      "996                  Resident Evil: Retribution   $21,052,227     3,012\n",
      "997                                   Project X   $21,051,363     3,055\n",
      "998                         Law Abiding Citizen   $21,039,502     2,890\n",
      "999                 The Hunchback of Notre Dame   $21,037,414     2,778\n",
      "\n",
      "[1000 rows x 3 columns]\n"
     ]
    }
   ],
   "source": [
    "from bs4 import BeautifulSoup\n",
    "import requests\n",
    "import pandas as pd\n",
    "\n",
    "# Basis-URL met variabele 'offset'\n",
    "base_url = 'https://www.boxofficemojo.com/chart/top_opening_weekend/?offset={}'\n",
    "\n",
    "# Aanmaken van een lege lijst om de resultaten van elke pagina op te slaan\n",
    "appended_data = []\n",
    "\n",
    "# Het aantal pagina's dat je wilt scrapen (stapgrootte van 200)\n",
    "num_pages = 5\n",
    "\n",
    "for offset in range(0, num_pages * 200, 200):\n",
    "    url = base_url.format(offset)\n",
    "    request = requests.get(url)\n",
    "    content = request.text\n",
    "    soup = BeautifulSoup(content, 'html.parser')\n",
    "    rows = soup.findAll('tr')\n",
    "\n",
    "    for row in rows:\n",
    "        data_row = {}\n",
    "        data = row.findAll('td')\n",
    "        if len(data) == 0:\n",
    "            continue\n",
    "        else:\n",
    "            # Normaal weekend\n",
    "            data_row['occasion'] = \"\"\n",
    "            data_row['rank'] = data[0].text\n",
    "        data_row['name'] = data[1].text\n",
    "        data_row['openinggross'] = data[2].text\n",
    "        data_row['totalgross'] = data[3].text\n",
    "        data_row['percentage'] = data[4].text\n",
    "        data_row['theathers'] = data[5].text\n",
    "        data_row['average'] = data[6].text\n",
    "        data_row['date'] = data[7].text\n",
    "        appended_data.append(data_row)\n",
    "\n",
    "# Creëer een DataFrame van de verzamelde gegevens\n",
    "weekend_data = pd.DataFrame(appended_data, columns=['name', 'openinggross', 'theathers'])\n",
    "\n",
    "# Toon het resulterende DataFrame\n",
    "print(weekend_data)"
   ]
  },
  {
   "cell_type": "code",
   "execution_count": null,
   "id": "b9fef996",
   "metadata": {},
   "outputs": [],
   "source": []
  }
 ],
 "metadata": {
  "kernelspec": {
   "display_name": "Python 3 (ipykernel)",
   "language": "python",
   "name": "python3"
  },
  "language_info": {
   "codemirror_mode": {
    "name": "ipython",
    "version": 3
   },
   "file_extension": ".py",
   "mimetype": "text/x-python",
   "name": "python",
   "nbconvert_exporter": "python",
   "pygments_lexer": "ipython3",
   "version": "3.11.4"
  }
 },
 "nbformat": 4,
 "nbformat_minor": 5
}
