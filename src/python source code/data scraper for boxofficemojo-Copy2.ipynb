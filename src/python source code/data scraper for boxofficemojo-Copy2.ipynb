{
 "cells": [
  {
   "cell_type": "code",
   "execution_count": 1,
   "id": "9ec1c677",
   "metadata": {},
   "outputs": [],
   "source": [
    "from bs4 import BeautifulSoup\n",
    "import requests\n",
    "\n",
    "url = 'https://www.boxofficemojo.com/chart/top_opening_weekend/'"
   ]
  },
  {
   "cell_type": "code",
   "execution_count": 2,
   "id": "e097c9e3",
   "metadata": {},
   "outputs": [],
   "source": [
    "request = requests.get(url)\n",
    "content = request.text"
   ]
  },
  {
   "cell_type": "code",
   "execution_count": 3,
   "id": "a1c4fe28",
   "metadata": {},
   "outputs": [],
   "source": [
    "soup=BeautifulSoup(content)"
   ]
  },
  {
   "cell_type": "code",
   "execution_count": 4,
   "id": "9c1931de",
   "metadata": {},
   "outputs": [],
   "source": [
    "rows = soup.findAll('tr')"
   ]
  },
  {
   "cell_type": "code",
   "execution_count": 5,
   "id": "11212b2c",
   "metadata": {},
   "outputs": [],
   "source": [
    "data = rows[1].findAll('td')"
   ]
  },
  {
   "cell_type": "code",
   "execution_count": 6,
   "id": "0d65a6f6",
   "metadata": {},
   "outputs": [
    {
     "data": {
      "text/plain": [
       "[<td class=\"a-text-right mojo-header-column mojo-truncate mojo-field-type-rank\">1</td>,\n",
       " <td class=\"a-text-left mojo-field-type-release mojo-cell-wide\"><a class=\"a-link-normal\" href=\"/release/rl3059975681/?ref_=bo_csw_table_1\">Avengers: Endgame</a></td>,\n",
       " <td class=\"a-text-right mojo-field-type-money\">$357,115,007</td>,\n",
       " <td class=\"a-text-right mojo-field-type-money mojo-estimatable\">$858,373,000</td>,\n",
       " <td class=\"a-text-right mojo-field-type-percent\">41.6%</td>,\n",
       " <td class=\"a-text-right mojo-field-type-positive_integer mojo-estimatable\">4,662</td>,\n",
       " <td class=\"a-text-right mojo-field-type-money mojo-estimatable\">$76,601</td>,\n",
       " <td class=\"a-text-left mojo-field-type-date a-nowrap\"><a class=\"a-link-normal\" href=\"/date/2019-04-26/?ref_=bo_csw_table_1\">Apr 26, 2019</a></td>,\n",
       " <td class=\"a-text-left mojo-field-type-release_studios\"><a class=\"a-link-normal\" href=\"https://pro.imdb.com/company/co0226183/boxoffice/?view=releases&amp;ref_=mojo_csw_table_1&amp;rf=mojo_csw_table_1\" rel=\"noopener\" target=\"_blank\">Walt Disney Studios Motion Pictures<svg class=\"mojo-new-window-svg\" viewbox=\"0 0 32 32\" xmlns=\"http://www.w3.org/2000/svg\">\n",
       " <path d=\"M24,15.57251l3,3V23.5A3.50424,3.50424,0,0,1,23.5,27H8.5A3.50424,3.50424,0,0,1,5,23.5V8.5A3.50424,3.50424,0,0,1,8.5,5h4.92755l3,3H8.5a.50641.50641,0,0,0-.5.5v15a.50641.50641,0,0,0,.5.5h15a.50641.50641,0,0,0,.5-.5ZM19.81952,8.56372,12.8844,17.75a.49989.49989,0,0,0,.04547.65479l.66534.66528a.49983.49983,0,0,0,.65479.04553l9.18628-6.93518,2.12579,2.12585a.5.5,0,0,0,.84741-.27526l1.48273-9.35108a.50006.50006,0,0,0-.57214-.57214L17.969,5.59058a.5.5,0,0,0-.27526.84741Z\"></path>\n",
       " </svg></a></td>]"
      ]
     },
     "execution_count": 6,
     "metadata": {},
     "output_type": "execute_result"
    }
   ],
   "source": [
    "data"
   ]
  },
  {
   "cell_type": "code",
   "execution_count": 7,
   "id": "c35057d9",
   "metadata": {},
   "outputs": [],
   "source": [
    "openingross = data[0].find('td', class_= 'a-text-right mojo-field-type-money')"
   ]
  },
  {
   "cell_type": "code",
   "execution_count": 8,
   "id": "1e9111e9",
   "metadata": {},
   "outputs": [
    {
     "name": "stdout",
     "output_type": "stream",
     "text": [
      "None\n"
     ]
    }
   ],
   "source": [
    "print(openingross)"
   ]
  },
  {
   "cell_type": "code",
   "execution_count": 9,
   "id": "cb611b43",
   "metadata": {},
   "outputs": [
    {
     "data": {
      "text/plain": [
       "[]"
      ]
     },
     "execution_count": 9,
     "metadata": {},
     "output_type": "execute_result"
    }
   ],
   "source": [
    "data[0].findAll('td')"
   ]
  },
  {
   "cell_type": "code",
   "execution_count": 10,
   "id": "61d8c856",
   "metadata": {},
   "outputs": [],
   "source": [
    "import pandas as pd\n",
    "appended_data = []\n",
    "for row in rows:\n",
    "    data_row = {}\n",
    "    data = row.findAll('td')\n",
    "    if len(data) == 0:\n",
    "        continue\n",
    "    if len(data[0].findAll('span')) > 0:\n",
    "        #special weekend\n",
    "        data_row['occasion'] = data[0].findAll('span')[0].text\n",
    "        data_row['date'] = data[0].findAll('a')[0].text\n",
    "    else:\n",
    "        #normal weekend\n",
    "        data_row['occasion'] = \"\"\n",
    "        data_row['rank'] = data[0].text\n",
    "    data_row['name'] = data[1].text\n",
    "    data_row['openinggross'] = data[2].text\n",
    "    data_row['totalgross'] = data[3].text\n",
    "    data_row['percentage'] = data[4].text\n",
    "    data_row['theathers'] = data[5].text\n",
    "    data_row['everage'] = data[6].text\n",
    "    data_row['date'] = data[7].text\n",
    "    appended_data.append(data_row)\n",
    "weekend_data = pd.DataFrame(appended_data, columns = ['name', 'openinggross','theathers']) "
   ]
  },
  {
   "cell_type": "code",
   "execution_count": 11,
   "id": "2b160c23",
   "metadata": {
    "scrolled": true
   },
   "outputs": [
    {
     "name": "stdout",
     "output_type": "stream",
     "text": [
      "                                           name  openinggross theathers\n",
      "0                             Avengers: Endgame  $357,115,007     4,662\n",
      "1                       Spider-Man: No Way Home  $260,138,569     4,336\n",
      "2                        Avengers: Infinity War  $257,698,183     4,474\n",
      "3    Star Wars: Episode VII - The Force Awakens  $247,966,675     4,134\n",
      "4       Star Wars: Episode VIII - The Last Jedi  $220,009,584     4,232\n",
      "..                                          ...           ...       ...\n",
      "195          Madagascar 3: Europe's Most Wanted   $60,316,738     4,258\n",
      "196                               Kung Fu Panda   $60,239,130     4,114\n",
      "197                      Straight Outta Compton   $60,200,180     2,757\n",
      "198                                        Cars   $60,119,509     3,985\n",
      "199                                       Signs   $60,117,080     3,264\n",
      "\n",
      "[200 rows x 3 columns]\n"
     ]
    }
   ],
   "source": [
    "print(weekend_data)"
   ]
  },
  {
   "cell_type": "code",
   "execution_count": null,
   "id": "ef817cc2",
   "metadata": {},
   "outputs": [],
   "source": []
  },
  {
   "cell_type": "code",
   "execution_count": null,
   "id": "5c88e6f2",
   "metadata": {},
   "outputs": [],
   "source": []
  }
 ],
 "metadata": {
  "kernelspec": {
   "display_name": "Python 3 (ipykernel)",
   "language": "python",
   "name": "python3"
  },
  "language_info": {
   "codemirror_mode": {
    "name": "ipython",
    "version": 3
   },
   "file_extension": ".py",
   "mimetype": "text/x-python",
   "name": "python",
   "nbconvert_exporter": "python",
   "pygments_lexer": "ipython3",
   "version": "3.11.4"
  }
 },
 "nbformat": 4,
 "nbformat_minor": 5
}
